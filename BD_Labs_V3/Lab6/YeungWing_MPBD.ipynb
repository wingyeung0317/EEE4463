{
 "cells": [
  {
   "cell_type": "markdown",
   "metadata": {},
   "source": [
    "# Mini-Project on Big Data (MPBD)\n",
    "# ..."
   ]
  },
  {
   "cell_type": "markdown",
   "metadata": {},
   "source": [
    "## Requirement 1\n",
    "### Consolidate 5 CSV files into a single CSV file"
   ]
  },
  {
   "cell_type": "code",
   "execution_count": 27,
   "metadata": {},
   "outputs": [],
   "source": [
    "import pandas as pd"
   ]
  },
  {
   "cell_type": "code",
   "execution_count": 28,
   "metadata": {},
   "outputs": [],
   "source": [
    "df1 = pd.read_csv(\"S1.csv\")\n",
    "df2 = pd.read_csv(\"S2.csv\")\n",
    "df3 = pd.read_csv(\"S3.csv\")\n",
    "df4 = pd.read_csv(\"S4.csv\")\n",
    "df5 = pd.read_csv(\"S5.csv\")"
   ]
  },
  {
   "cell_type": "code",
   "execution_count": 29,
   "metadata": {},
   "outputs": [],
   "source": [
    "df = pd.merge(df1, df2, on='Student', how='left')\n",
    "df = pd.merge(df, df3, on='Student', how='left')\n",
    "df = pd.merge(df, df4, on='Student', how='left')\n",
    "df = pd.merge(df, df5, on='Student', how='left')"
   ]
  },
  {
   "cell_type": "code",
   "execution_count": 30,
   "metadata": {},
   "outputs": [
    {
     "data": {
      "text/html": [
       "<div>\n",
       "<style scoped>\n",
       "    .dataframe tbody tr th:only-of-type {\n",
       "        vertical-align: middle;\n",
       "    }\n",
       "\n",
       "    .dataframe tbody tr th {\n",
       "        vertical-align: top;\n",
       "    }\n",
       "\n",
       "    .dataframe thead th {\n",
       "        text-align: right;\n",
       "    }\n",
       "</style>\n",
       "<table border=\"1\" class=\"dataframe\">\n",
       "  <thead>\n",
       "    <tr style=\"text-align: right;\">\n",
       "      <th></th>\n",
       "      <th>Student</th>\n",
       "      <th>L001</th>\n",
       "      <th>V001</th>\n",
       "      <th>V002</th>\n",
       "      <th>V003</th>\n",
       "      <th>V004</th>\n",
       "      <th>V005</th>\n",
       "      <th>V006</th>\n",
       "      <th>V007</th>\n",
       "      <th>L002</th>\n",
       "      <th>...</th>\n",
       "      <th>L004</th>\n",
       "      <th>V019</th>\n",
       "      <th>V020</th>\n",
       "      <th>V021</th>\n",
       "      <th>V022</th>\n",
       "      <th>V023</th>\n",
       "      <th>V024</th>\n",
       "      <th>L005</th>\n",
       "      <th>P001</th>\n",
       "      <th>V025</th>\n",
       "    </tr>\n",
       "  </thead>\n",
       "  <tbody>\n",
       "    <tr>\n",
       "      <th>0</th>\n",
       "      <td>S001</td>\n",
       "      <td>56</td>\n",
       "      <td>82</td>\n",
       "      <td>74</td>\n",
       "      <td>68.0</td>\n",
       "      <td>78</td>\n",
       "      <td>87</td>\n",
       "      <td>63</td>\n",
       "      <td>79</td>\n",
       "      <td>54.0</td>\n",
       "      <td>...</td>\n",
       "      <td>63.0</td>\n",
       "      <td>76.0</td>\n",
       "      <td>70.0</td>\n",
       "      <td>75.0</td>\n",
       "      <td>80.0</td>\n",
       "      <td>70.0</td>\n",
       "      <td>83.0</td>\n",
       "      <td>61.0</td>\n",
       "      <td>72.0</td>\n",
       "      <td>63.0</td>\n",
       "    </tr>\n",
       "    <tr>\n",
       "      <th>1</th>\n",
       "      <td>S002</td>\n",
       "      <td>55</td>\n",
       "      <td>31</td>\n",
       "      <td>39</td>\n",
       "      <td>56.0</td>\n",
       "      <td>50</td>\n",
       "      <td>58</td>\n",
       "      <td>51</td>\n",
       "      <td>60</td>\n",
       "      <td>49.0</td>\n",
       "      <td>...</td>\n",
       "      <td>50.0</td>\n",
       "      <td>NaN</td>\n",
       "      <td>71.0</td>\n",
       "      <td>52.0</td>\n",
       "      <td>53.0</td>\n",
       "      <td>47.0</td>\n",
       "      <td>60.0</td>\n",
       "      <td>56.0</td>\n",
       "      <td>NaN</td>\n",
       "      <td>50.0</td>\n",
       "    </tr>\n",
       "    <tr>\n",
       "      <th>2</th>\n",
       "      <td>S003</td>\n",
       "      <td>52</td>\n",
       "      <td>83</td>\n",
       "      <td>88</td>\n",
       "      <td>79.0</td>\n",
       "      <td>85</td>\n",
       "      <td>66</td>\n",
       "      <td>62</td>\n",
       "      <td>74</td>\n",
       "      <td>56.0</td>\n",
       "      <td>...</td>\n",
       "      <td>67.0</td>\n",
       "      <td>74.0</td>\n",
       "      <td>69.0</td>\n",
       "      <td>80.0</td>\n",
       "      <td>81.0</td>\n",
       "      <td>79.0</td>\n",
       "      <td>74.0</td>\n",
       "      <td>60.0</td>\n",
       "      <td>64.0</td>\n",
       "      <td>70.0</td>\n",
       "    </tr>\n",
       "    <tr>\n",
       "      <th>3</th>\n",
       "      <td>S004</td>\n",
       "      <td>54</td>\n",
       "      <td>34</td>\n",
       "      <td>35</td>\n",
       "      <td>49.0</td>\n",
       "      <td>49</td>\n",
       "      <td>61</td>\n",
       "      <td>61</td>\n",
       "      <td>62</td>\n",
       "      <td>36.0</td>\n",
       "      <td>...</td>\n",
       "      <td>50.0</td>\n",
       "      <td>NaN</td>\n",
       "      <td>60.0</td>\n",
       "      <td>56.0</td>\n",
       "      <td>NaN</td>\n",
       "      <td>43.0</td>\n",
       "      <td>70.0</td>\n",
       "      <td>45.0</td>\n",
       "      <td>NaN</td>\n",
       "      <td>41.0</td>\n",
       "    </tr>\n",
       "    <tr>\n",
       "      <th>4</th>\n",
       "      <td>S005</td>\n",
       "      <td>56</td>\n",
       "      <td>74</td>\n",
       "      <td>54</td>\n",
       "      <td>49.0</td>\n",
       "      <td>53</td>\n",
       "      <td>60</td>\n",
       "      <td>54</td>\n",
       "      <td>73</td>\n",
       "      <td>43.0</td>\n",
       "      <td>...</td>\n",
       "      <td>36.0</td>\n",
       "      <td>58.0</td>\n",
       "      <td>60.0</td>\n",
       "      <td>51.0</td>\n",
       "      <td>46.0</td>\n",
       "      <td>52.0</td>\n",
       "      <td>68.0</td>\n",
       "      <td>34.0</td>\n",
       "      <td>54.0</td>\n",
       "      <td>53.0</td>\n",
       "    </tr>\n",
       "    <tr>\n",
       "      <th>...</th>\n",
       "      <td>...</td>\n",
       "      <td>...</td>\n",
       "      <td>...</td>\n",
       "      <td>...</td>\n",
       "      <td>...</td>\n",
       "      <td>...</td>\n",
       "      <td>...</td>\n",
       "      <td>...</td>\n",
       "      <td>...</td>\n",
       "      <td>...</td>\n",
       "      <td>...</td>\n",
       "      <td>...</td>\n",
       "      <td>...</td>\n",
       "      <td>...</td>\n",
       "      <td>...</td>\n",
       "      <td>...</td>\n",
       "      <td>...</td>\n",
       "      <td>...</td>\n",
       "      <td>...</td>\n",
       "      <td>...</td>\n",
       "      <td>...</td>\n",
       "    </tr>\n",
       "    <tr>\n",
       "      <th>78</th>\n",
       "      <td>S081</td>\n",
       "      <td>62</td>\n",
       "      <td>82</td>\n",
       "      <td>70</td>\n",
       "      <td>72.0</td>\n",
       "      <td>81</td>\n",
       "      <td>73</td>\n",
       "      <td>55</td>\n",
       "      <td>72</td>\n",
       "      <td>65.0</td>\n",
       "      <td>...</td>\n",
       "      <td>64.0</td>\n",
       "      <td>70.0</td>\n",
       "      <td>70.0</td>\n",
       "      <td>68.0</td>\n",
       "      <td>68.0</td>\n",
       "      <td>78.0</td>\n",
       "      <td>73.0</td>\n",
       "      <td>62.0</td>\n",
       "      <td>61.0</td>\n",
       "      <td>60.0</td>\n",
       "    </tr>\n",
       "    <tr>\n",
       "      <th>79</th>\n",
       "      <td>S082</td>\n",
       "      <td>58</td>\n",
       "      <td>85</td>\n",
       "      <td>93</td>\n",
       "      <td>82.0</td>\n",
       "      <td>88</td>\n",
       "      <td>68</td>\n",
       "      <td>65</td>\n",
       "      <td>74</td>\n",
       "      <td>64.0</td>\n",
       "      <td>...</td>\n",
       "      <td>67.0</td>\n",
       "      <td>96.0</td>\n",
       "      <td>72.0</td>\n",
       "      <td>74.0</td>\n",
       "      <td>75.0</td>\n",
       "      <td>90.0</td>\n",
       "      <td>74.0</td>\n",
       "      <td>62.0</td>\n",
       "      <td>70.0</td>\n",
       "      <td>75.0</td>\n",
       "    </tr>\n",
       "    <tr>\n",
       "      <th>80</th>\n",
       "      <td>S083</td>\n",
       "      <td>69</td>\n",
       "      <td>57</td>\n",
       "      <td>65</td>\n",
       "      <td>58.0</td>\n",
       "      <td>56</td>\n",
       "      <td>63</td>\n",
       "      <td>67</td>\n",
       "      <td>68</td>\n",
       "      <td>54.0</td>\n",
       "      <td>...</td>\n",
       "      <td>66.0</td>\n",
       "      <td>58.0</td>\n",
       "      <td>64.0</td>\n",
       "      <td>63.0</td>\n",
       "      <td>51.0</td>\n",
       "      <td>57.0</td>\n",
       "      <td>71.0</td>\n",
       "      <td>54.0</td>\n",
       "      <td>66.0</td>\n",
       "      <td>51.0</td>\n",
       "    </tr>\n",
       "    <tr>\n",
       "      <th>81</th>\n",
       "      <td>S084</td>\n",
       "      <td>55</td>\n",
       "      <td>79</td>\n",
       "      <td>71</td>\n",
       "      <td>67.0</td>\n",
       "      <td>68</td>\n",
       "      <td>54</td>\n",
       "      <td>67</td>\n",
       "      <td>80</td>\n",
       "      <td>53.0</td>\n",
       "      <td>...</td>\n",
       "      <td>53.0</td>\n",
       "      <td>72.0</td>\n",
       "      <td>63.0</td>\n",
       "      <td>69.0</td>\n",
       "      <td>64.0</td>\n",
       "      <td>64.0</td>\n",
       "      <td>74.0</td>\n",
       "      <td>53.0</td>\n",
       "      <td>59.0</td>\n",
       "      <td>68.0</td>\n",
       "    </tr>\n",
       "    <tr>\n",
       "      <th>82</th>\n",
       "      <td>S085</td>\n",
       "      <td>61</td>\n",
       "      <td>85</td>\n",
       "      <td>81</td>\n",
       "      <td>82.0</td>\n",
       "      <td>88</td>\n",
       "      <td>70</td>\n",
       "      <td>67</td>\n",
       "      <td>61</td>\n",
       "      <td>65.0</td>\n",
       "      <td>...</td>\n",
       "      <td>59.0</td>\n",
       "      <td>68.0</td>\n",
       "      <td>71.0</td>\n",
       "      <td>76.0</td>\n",
       "      <td>80.0</td>\n",
       "      <td>58.0</td>\n",
       "      <td>83.0</td>\n",
       "      <td>64.0</td>\n",
       "      <td>64.0</td>\n",
       "      <td>64.0</td>\n",
       "    </tr>\n",
       "  </tbody>\n",
       "</table>\n",
       "<p>83 rows × 32 columns</p>\n",
       "</div>"
      ],
      "text/plain": [
       "   Student  L001  V001  V002  V003  V004  V005  V006  V007  L002  ...  L004  \\\n",
       "0     S001    56    82    74  68.0    78    87    63    79  54.0  ...  63.0   \n",
       "1     S002    55    31    39  56.0    50    58    51    60  49.0  ...  50.0   \n",
       "2     S003    52    83    88  79.0    85    66    62    74  56.0  ...  67.0   \n",
       "3     S004    54    34    35  49.0    49    61    61    62  36.0  ...  50.0   \n",
       "4     S005    56    74    54  49.0    53    60    54    73  43.0  ...  36.0   \n",
       "..     ...   ...   ...   ...   ...   ...   ...   ...   ...   ...  ...   ...   \n",
       "78    S081    62    82    70  72.0    81    73    55    72  65.0  ...  64.0   \n",
       "79    S082    58    85    93  82.0    88    68    65    74  64.0  ...  67.0   \n",
       "80    S083    69    57    65  58.0    56    63    67    68  54.0  ...  66.0   \n",
       "81    S084    55    79    71  67.0    68    54    67    80  53.0  ...  53.0   \n",
       "82    S085    61    85    81  82.0    88    70    67    61  65.0  ...  59.0   \n",
       "\n",
       "    V019  V020  V021  V022  V023  V024  L005  P001  V025  \n",
       "0   76.0  70.0  75.0  80.0  70.0  83.0  61.0  72.0  63.0  \n",
       "1    NaN  71.0  52.0  53.0  47.0  60.0  56.0   NaN  50.0  \n",
       "2   74.0  69.0  80.0  81.0  79.0  74.0  60.0  64.0  70.0  \n",
       "3    NaN  60.0  56.0   NaN  43.0  70.0  45.0   NaN  41.0  \n",
       "4   58.0  60.0  51.0  46.0  52.0  68.0  34.0  54.0  53.0  \n",
       "..   ...   ...   ...   ...   ...   ...   ...   ...   ...  \n",
       "78  70.0  70.0  68.0  68.0  78.0  73.0  62.0  61.0  60.0  \n",
       "79  96.0  72.0  74.0  75.0  90.0  74.0  62.0  70.0  75.0  \n",
       "80  58.0  64.0  63.0  51.0  57.0  71.0  54.0  66.0  51.0  \n",
       "81  72.0  63.0  69.0  64.0  64.0  74.0  53.0  59.0  68.0  \n",
       "82  68.0  71.0  76.0  80.0  58.0  83.0  64.0  64.0  64.0  \n",
       "\n",
       "[83 rows x 32 columns]"
      ]
     },
     "execution_count": 30,
     "metadata": {},
     "output_type": "execute_result"
    }
   ],
   "source": [
    "df"
   ]
  },
  {
   "cell_type": "markdown",
   "metadata": {},
   "source": [
    "## Requirement 2\n",
    "### Count the number of students who completed all 5 semesters"
   ]
  },
  {
   "cell_type": "code",
   "execution_count": 31,
   "metadata": {},
   "outputs": [],
   "source": [
    "# if the students completed all 5 semesters, then their ID should be in every csv file. Which mean we can use inner join to get the students who completed all 5 semesters\n",
    "all5SemDF = pd.merge(df1, df2, on='Student', how='inner')\n",
    "all5SemDF = pd.merge(all5SemDF, df3, on='Student', how='inner')\n",
    "all5SemDF = pd.merge(all5SemDF, df4, on='Student', how='inner')\n",
    "all5SemDF = pd.merge(all5SemDF, df5, on='Student', how='inner')"
   ]
  },
  {
   "cell_type": "code",
   "execution_count": 32,
   "metadata": {},
   "outputs": [
    {
     "data": {
      "text/plain": [
       "67"
      ]
     },
     "execution_count": 32,
     "metadata": {},
     "output_type": "execute_result"
    }
   ],
   "source": [
    "len(all5SemDF)"
   ]
  },
  {
   "cell_type": "markdown",
   "metadata": {},
   "source": [
    "## Requirement 3\n",
    "### Statistics (mean/ maximum/ minimum/ standard deviation of module marks) of the designated modules - V???, V???, V???"
   ]
  },
  {
   "cell_type": "code",
   "execution_count": 33,
   "metadata": {},
   "outputs": [
    {
     "data": {
      "text/plain": [
       "64.79518072289157"
      ]
     },
     "execution_count": 33,
     "metadata": {},
     "output_type": "execute_result"
    }
   ],
   "source": [
    "# mean of V001\n",
    "df['V001'].mean()"
   ]
  },
  {
   "cell_type": "code",
   "execution_count": 34,
   "metadata": {},
   "outputs": [
    {
     "data": {
      "text/plain": [
       "93"
      ]
     },
     "execution_count": 34,
     "metadata": {},
     "output_type": "execute_result"
    }
   ],
   "source": [
    "# maximum value of V002\n",
    "df['V002'].max()"
   ]
  },
  {
   "cell_type": "code",
   "execution_count": 35,
   "metadata": {},
   "outputs": [
    {
     "data": {
      "text/plain": [
       "19.0"
      ]
     },
     "execution_count": 35,
     "metadata": {},
     "output_type": "execute_result"
    }
   ],
   "source": [
    "# minimum value of V003\n",
    "df['V003'].min()"
   ]
  },
  {
   "cell_type": "code",
   "execution_count": 36,
   "metadata": {},
   "outputs": [
    {
     "data": {
      "text/plain": [
       "21.238891411158047"
      ]
     },
     "execution_count": 36,
     "metadata": {},
     "output_type": "execute_result"
    }
   ],
   "source": [
    "# standard deviation of V004\n",
    "df['V004'].std()"
   ]
  },
  {
   "cell_type": "markdown",
   "metadata": {},
   "source": [
    "## Requirement 4\n",
    "### Histogram of the designated module - V???"
   ]
  },
  {
   "cell_type": "code",
   "execution_count": 37,
   "metadata": {},
   "outputs": [],
   "source": [
    "import matplotlib.pyplot as plt"
   ]
  },
  {
   "cell_type": "code",
   "execution_count": 38,
   "metadata": {},
   "outputs": [
    {
     "data": {
      "image/png": "[encoded data removed]",
      "text/plain": [
       "<Figure size 640x480 with 1 Axes>"
      ]
     },
     "metadata": {},
     "output_type": "display_data"
    }
   ],
   "source": [
    "plt.hist(df['V001'], rwidth=0.9) # rwidth is added for the space between the bars, better visibility\n",
    "plt.xlabel('Mark')\n",
    "plt.ylabel('Frequency')\n",
    "plt.title('Histogram of V001')\n",
    "plt.show()"
   ]
  },
  {
   "cell_type": "markdown",
   "metadata": {},
   "source": [
    "## Requirement 5 (NOT needed for those who completed Requirement 1)\n",
    "### Box plot of the designated module - V???"
   ]
  },
  {
   "cell_type": "code",
   "execution_count": 39,
   "metadata": {},
   "outputs": [],
   "source": [
    "# import matplotlib.pyplot as plt"
   ]
  },
  {
   "cell_type": "code",
   "execution_count": 40,
   "metadata": {},
   "outputs": [
    {
     "data": {
      "image/png": "[encoded data removed]",
      "text/plain": [
       "<Figure size 640x480 with 1 Axes>"
      ]
     },
     "metadata": {},
     "output_type": "display_data"
    }
   ],
   "source": [
    "plt.boxplot([df['V001'],df['V002'],df['V004'],df['V005']],labels=['V001','V002','V004','V005'])\n",
    "plt.ylabel('Mark')\n",
    "plt.xlabel('Module')\n",
    "plt.title('Boxplot of the designated module')\n",
    "plt.show()"
   ]
  },
  {
   "cell_type": "markdown",
   "metadata": {},
   "source": [
    "## Requirement 6\n",
    "### Pie chart of the designated module - V???"
   ]
  },
  {
   "cell_type": "code",
   "execution_count": 41,
   "metadata": {},
   "outputs": [],
   "source": [
    "# import matplotlib.pyplot as plt"
   ]
  },
  {
   "cell_type": "code",
   "execution_count": 42,
   "metadata": {},
   "outputs": [
    {
     "data": {
      "image/png": "[encoded data removed]",
      "text/plain": [
       "<Figure size 640x480 with 1 Axes>"
      ]
     },
     "metadata": {},
     "output_type": "display_data"
    }
   ],
   "source": [
    "V003GradeA = len(df[df['V003']>=70]['V003'])\n",
    "V003GradeB = len(df[(df['V003']>=60) & (df['V003']<70)]['V003'])\n",
    "V003GradeC = len(df[(df['V003']>=50) & (df['V003']<60)]['V003'])\n",
    "V003GradeD = len(df[(df['V003']>=40) & (df['V003']<50)]['V003'])\n",
    "V003GradeF = len(df[df['V003']<40]['V003'])\n",
    "plt.pie([V003GradeA,V003GradeB,V003GradeC,V003GradeD,V003GradeF], labels=['A','B','C','D','F'], autopct='%.1f%%')\n",
    "plt.title('Pie chart of V003 grades')\n",
    "plt.show()"
   ]
  },
  {
   "cell_type": "markdown",
   "metadata": {},
   "source": [
    "## Requirement 7A\n",
    "### Underlying relationship 1"
   ]
  },
  {
   "cell_type": "code",
   "execution_count": 43,
   "metadata": {},
   "outputs": [
    {
     "data": {
      "image/png": "[encoded data removed]",
      "text/plain": [
       "<Figure size 640x480 with 1 Axes>"
      ]
     },
     "metadata": {},
     "output_type": "display_data"
    }
   ],
   "source": [
    "# Underlying relationship between V001 and V002\n",
    "plt.scatter(all5SemDF['V001'],all5SemDF['V002'])\n",
    "plt.xlabel('V001')\n",
    "plt.ylabel('V002')\n",
    "plt.title('Scatter plot of V001 and V002')\n",
    "plt.show()"
   ]
  },
  {
   "cell_type": "markdown",
   "metadata": {},
   "source": [
    "## Requirement 7B\n",
    "### Underlying relationship 2"
   ]
  },
  {
   "cell_type": "code",
   "execution_count": 44,
   "metadata": {},
   "outputs": [
    {
     "data": {
      "text/plain": [
       "Text(0.5, 1.0, 'Scatter plot of LAN and EEE modules')"
      ]
     },
     "execution_count": 44,
     "metadata": {},
     "output_type": "execute_result"
    },
    {
     "data": {
      "image/png": "[encoded data removed]",
      "text/plain": [
       "<Figure size 640x480 with 1 Axes>"
      ]
     },
     "metadata": {},
     "output_type": "display_data"
    }
   ],
   "source": [
    "# grab all result of module start with letter L\n",
    "lDF = all5SemDF.filter(regex='^L')\n",
    "# grab all result of module start with letter V\n",
    "vDF = all5SemDF.filter(regex='^V')\n",
    "### Use all5semDF to avoid outliner that some students did not complete all the courses\n",
    "\n",
    "\n",
    "# underling relationship between them\n",
    "plt.scatter(lDF.mean(axis=1),vDF.mean(axis=1))\n",
    "plt.xlabel('Average of LAN modules')\n",
    "plt.ylabel('Average of EEE modules')\n",
    "plt.title('Scatter plot of LAN and EEE modules')"
   ]
  }
 ],
 "metadata": {
  "kernelspec": {
   "display_name": "Python 3",
   "language": "python",
   "name": "python3"
  },
  "language_info": {
   "codemirror_mode": {
    "name": "ipython",
    "version": 3
   },
   "file_extension": ".py",
   "mimetype": "text/x-python",
   "name": "python",
   "nbconvert_exporter": "python",
   "pygments_lexer": "ipython3",
   "version": "3.11.5"
  }
 },
 "nbformat": 4,
 "nbformat_minor": 4
}
