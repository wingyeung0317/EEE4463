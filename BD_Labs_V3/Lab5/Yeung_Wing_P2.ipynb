{
 "cells": [
  {
   "cell_type": "markdown",
   "metadata": {},
   "source": [
    "# Program 2 (P2) – Solving quadratic equations\n",
    "\n",
    "1. The coefficients of several quadratic equations (〖ax〗^2+bx+c=0) are given in the CSV file ‘abc_lab5_p2_input.csv’.\n",
    "\n",
    "2. The content of the file is:\n",
    "    |a|b|c|\n",
    "    |-|-|-|\n",
    "    |1|5|3|\n",
    "    |2|-4|2|\n",
    "    |3|2|-1|\n",
    "    |3|2|1|\n",
    "\n",
    "3. The program reads in the CSV file and outputs the following content on the screen:\n",
    "\n",
    "\tBasic requirement:\n",
    "    |a|b|c|D|p|q|`REMARK`|\n",
    "    |-|-|-|-|-|-|-|\n",
    "    |1|5|3|13|-4.303|-0.697|`(Real roots: -4.303 and -0.697)`|\n",
    "    |2|-4|2|0|1|1|`(Repeated roots: 1)`|\n",
    "    |3|2|-1|16|-1|0.333|`(Real roots: -1 and 0.333)`|\n",
    "    |3|2|1|-8|NaN|NaN|`(Complex roots are not calculated)`|\n",
    "    \n",
    "\tThe alignment should be more nice-looking.\n",
    "\n",
    "    The precision or the number of decimal places shown is for reference only.  We are not taking a Mathematics course.\n",
    "\n",
    "    Advanced requirement:\n",
    "    |a|b|c|D|p|q|`REMARK`|\n",
    "    |-|-|-|-|-|-|-|\n",
    "    |1|5|3|13|-4.303|-0.697|`(Real roots: -4.303 and -0.697)`|\n",
    "    |2|-4|2|0|1|1|`(Repeated roots: 1)`|\n",
    "    |3|2|-1|16|-1|0.333|`(Real roots: -1 and 0.333)`|\n",
    "    |3|2|1|-8|-0.333|0.471|`(Complex roots: -0.333 + 0.471j and\t-0.333 – 0.471j)`|\n",
    "\n",
    "4.\tThe program also outputs the following content to the CSV file ‘abc_lab5_p2_output.csv’:\n",
    "\n",
    "\tBasic requirement:\n",
    "    |a|b|c|D|p|q|`REMARK`|\n",
    "    |-|-|-|-|-|-|-|\n",
    "    |1|5|3|13|-4.303|-0.697|`(Real roots: -4.303 and -0.697)`|\n",
    "    |2|-4|2|0|1|1|`(Repeated roots: 1)`|\n",
    "    |3|2|-1|16|-1|0.333|`(Real roots: -1 and 0.333)`|\n",
    "    |3|2|1|-8|||`(Complex roots are not saved)`|\n",
    "\n",
    "\tAdvanced requirement:\n",
    "    |a|b|c|D|p|q|`REMARK`|\n",
    "    |-|-|-|-|-|-|-|\n",
    "    |1|5|3|13|-4.303|-0.697|`(Real roots: -4.303 and -0.697)`|\n",
    "    |2|-4|2|0|1|1|`(Repeated roots: 1)`|\n",
    "    |3|2|-1|16|-1|0.333|`(Real roots: -1 and 0.333)`|\n",
    "    |3|2|1|-8|-0.333|0.471|`(Complex roots: -0.333 + 0.471j and\t-0.333 – 0.471j)`|\n",
    "\n",
    "5.\tYou’re encouraged to handle exceptions like linear equation, non-numeric input.\n",
    "\n"
   ]
  },
  {
   "cell_type": "code",
   "execution_count": 1,
   "metadata": {},
   "outputs": [],
   "source": [
    "import pandas as pd\n",
    "import numpy as np\n",
    "from IPython.display import display\n",
    "\n",
    "df = pd.read_csv('ab_lab5_p2_input.csv')\n",
    "\n",
    "df['D'] = np.power(df['b'],2) - 4*df['a']*df['c']"
   ]
  },
  {
   "cell_type": "code",
   "execution_count": 2,
   "metadata": {},
   "outputs": [
    {
     "name": "stderr",
     "output_type": "stream",
     "text": [
      "c:\\ProgramData\\anaconda3\\Lib\\site-packages\\pandas\\core\\arraylike.py:396: RuntimeWarning: invalid value encountered in sqrt\n",
      "  result = getattr(ufunc, method)(*inputs, **kwargs)\n"
     ]
    }
   ],
   "source": [
    "df['sqrt_D'] = np.where(df['D'] >= 0, np.sqrt(df['D']), np.sqrt(-df['D'])*1j)\n",
    "df['p'] = (-df['b'] - df['sqrt_D']) / (2*df['a'])\n",
    "df['q'] = (-df['b'] + df['sqrt_D']) / (2*df['a'])\n",
    "\n",
    "df['p'] = df['p'].apply(lambda x: f\"{x.real:.3f}\").astype(float)\n",
    "df['q'] = df['q'].apply(lambda x: f\"{x.real:.3f}\" if np.isreal(x) else f\"{x.imag:.3f}\").astype(float)"
   ]
  },
  {
   "cell_type": "code",
   "execution_count": 3,
   "metadata": {},
   "outputs": [
    {
     "data": {
      "text/html": [
       "<div>\n",
       "<style scoped>\n",
       "    .dataframe tbody tr th:only-of-type {\n",
       "        vertical-align: middle;\n",
       "    }\n",
       "\n",
       "    .dataframe tbody tr th {\n",
       "        vertical-align: top;\n",
       "    }\n",
       "\n",
       "    .dataframe thead th {\n",
       "        text-align: right;\n",
       "    }\n",
       "</style>\n",
       "<table border=\"1\" class=\"dataframe\">\n",
       "  <thead>\n",
       "    <tr style=\"text-align: right;\">\n",
       "      <th></th>\n",
       "      <th>a</th>\n",
       "      <th>b</th>\n",
       "      <th>c</th>\n",
       "      <th>D</th>\n",
       "      <th>p</th>\n",
       "      <th>q</th>\n",
       "    </tr>\n",
       "  </thead>\n",
       "  <tbody>\n",
       "    <tr>\n",
       "      <th>0</th>\n",
       "      <td>1</td>\n",
       "      <td>5</td>\n",
       "      <td>3</td>\n",
       "      <td>13</td>\n",
       "      <td>-4.303</td>\n",
       "      <td>-0.697</td>\n",
       "    </tr>\n",
       "    <tr>\n",
       "      <th>1</th>\n",
       "      <td>2</td>\n",
       "      <td>-4</td>\n",
       "      <td>2</td>\n",
       "      <td>0</td>\n",
       "      <td>1.000</td>\n",
       "      <td>1.000</td>\n",
       "    </tr>\n",
       "    <tr>\n",
       "      <th>2</th>\n",
       "      <td>3</td>\n",
       "      <td>2</td>\n",
       "      <td>-1</td>\n",
       "      <td>16</td>\n",
       "      <td>-1.000</td>\n",
       "      <td>0.333</td>\n",
       "    </tr>\n",
       "    <tr>\n",
       "      <th>3</th>\n",
       "      <td>3</td>\n",
       "      <td>2</td>\n",
       "      <td>1</td>\n",
       "      <td>-8</td>\n",
       "      <td>-0.333</td>\n",
       "      <td>0.471</td>\n",
       "    </tr>\n",
       "  </tbody>\n",
       "</table>\n",
       "</div>"
      ],
      "text/plain": [
       "   a  b  c   D      p      q\n",
       "0  1  5  3  13 -4.303 -0.697\n",
       "1  2 -4  2   0  1.000  1.000\n",
       "2  3  2 -1  16 -1.000  0.333\n",
       "3  3  2  1  -8 -0.333  0.471"
      ]
     },
     "metadata": {},
     "output_type": "display_data"
    }
   ],
   "source": [
    "output = df[['a', 'b', 'c', 'D', 'p', 'q']]\n",
    "\n",
    "display(output)\n",
    "output.to_csv('ab_lab5_p2_output.csv', index=False, columns=['a', 'b', 'c', 'D', 'p', 'q'])"
   ]
  }
 ],
 "metadata": {
  "kernelspec": {
   "display_name": "Python 3",
   "language": "python",
   "name": "python3"
  },
  "language_info": {
   "codemirror_mode": {
    "name": "ipython",
    "version": 3
   },
   "file_extension": ".py",
   "mimetype": "text/x-python",
   "name": "python",
   "nbconvert_exporter": "python",
   "pygments_lexer": "ipython3",
   "version": "3.11.5"
  }
 },
 "nbformat": 4,
 "nbformat_minor": 2
}
