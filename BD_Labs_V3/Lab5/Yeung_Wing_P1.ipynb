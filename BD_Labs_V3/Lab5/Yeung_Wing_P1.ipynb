{
 "cells": [
  {
   "cell_type": "markdown",
   "metadata": {},
   "source": [
    "# Program 1 (P1) – Printing stars\n",
    "1.\tTwo questions are asked:\n",
    "•\tHow many stars are needed?\n",
    "•\t1-sided or 2-sided?\n",
    "\n",
    "2.\tIf the answers are 5 [stars] and 2 [-sided], the output is:\n",
    "```\n",
    "*\n",
    "**\n",
    "***\n",
    "****\n",
    "*****\n",
    "****\n",
    "***\n",
    "**\n",
    "*\n",
    "```\n",
    "3.\tIf the answers are 8 [stars] and 1 [-sided], the output is:\n",
    "```\n",
    "*\n",
    "**\n",
    "***\n",
    "****\n",
    "*****\n",
    "******\n",
    "*******\n",
    "********\n",
    "```\n",
    "4.\tYou’re encouraged to handle exceptions like non-numeric input.\n"
   ]
  },
  {
   "cell_type": "code",
   "execution_count": 63,
   "metadata": {},
   "outputs": [
    {
     "name": "stdout",
     "output_type": "stream",
     "text": [
      "*\n",
      "**\n",
      "***\n",
      "****\n",
      "*****\n",
      "******\n",
      "*******\n",
      "********\n"
     ]
    }
   ],
   "source": [
    "def print_stars(stars, sided):\n",
    "    try:\n",
    "        stars = int(stars)\n",
    "        sided = int(sided)\n",
    "        for i in range(1, stars + 1):\n",
    "            print('*' * i)\n",
    "        if sided == 2:\n",
    "            for i in range(stars - 1, 0, -1):\n",
    "                print('*' * i)\n",
    "    except ValueError:\n",
    "        print(\"Value Error: Please input a number.\")\n",
    "\n",
    "stars = input(\"Number of stars:\")\n",
    "sided = input(\"Side(1 or 2):\")\n",
    "\n",
    "print_stars(stars, sided)"
   ]
  }
 ],
 "metadata": {
  "kernelspec": {
   "display_name": "Python 3",
   "language": "python",
   "name": "python3"
  },
  "language_info": {
   "codemirror_mode": {
    "name": "ipython",
    "version": 3
   },
   "file_extension": ".py",
   "mimetype": "text/x-python",
   "name": "python",
   "nbconvert_exporter": "python",
   "pygments_lexer": "ipython3",
   "version": "3.11.5"
  }
 },
 "nbformat": 4,
 "nbformat_minor": 2
}
